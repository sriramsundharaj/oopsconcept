{
 "cells": [
  {
   "cell_type": "code",
   "execution_count": 117,
   "id": "213de14d",
   "metadata": {},
   "outputs": [],
   "source": [
    "from random import randint"
   ]
  },
  {
   "cell_type": "code",
   "execution_count": 126,
   "id": "35167132",
   "metadata": {},
   "outputs": [],
   "source": [
    "class Point:\n",
    "    \n",
    "    def __init__(self,x,y):\n",
    "        self.x = x\n",
    "        self.y = y\n",
    "        \n",
    "    def falls_in_rectangle(self,rectangle):\n",
    "        if rectangle.lowleft.x < self.x < rectangle.upright.x  \\\n",
    "        and rectangle.lowleft.y < self.y < rectangle.upright.y:\n",
    "            return True\n",
    "        return False\n",
    "    \n",
    "\n",
    "    def distance_from_rectangle(self,point):\n",
    "        return ((self.x-point.x)**2 + \n",
    "                (self.y-point.y)**2) ** 0.5\n",
    "\n",
    "    \n",
    "class Rectangle:\n",
    "    \n",
    "    def __init__(self,lowleft,upright):\n",
    "        self.lowleft = lowleft\n",
    "        self.upright = upright  \n",
    "    \n",
    "    \n",
    "    def area(self):\n",
    "        return (self.upright.x - self.lowleft.x) * \\\n",
    "                (self.upright.y - self.lowleft.y) "
   ]
  },
  {
   "cell_type": "code",
   "execution_count": 121,
   "id": "1290986e",
   "metadata": {},
   "outputs": [
    {
     "name": "stdout",
     "output_type": "stream",
     "text": [
      "lowleft : (1,0)\n",
      "upright : (10,11)\n"
     ]
    }
   ],
   "source": [
    "rectanglex = Rectangle(Point(randint(0,9),randint(0,9)),Point(randint(10,19),randint(10,19)))\n",
    "print(f\"lowleft : ({rectanglex.lowleft.x},{rectanglex.lowleft.y})\")\n",
    "print(f\"upright : ({rectanglex.upright.x},{rectanglex.upright.y})\")"
   ]
  },
  {
   "cell_type": "code",
   "execution_count": 122,
   "id": "7ed4c85d",
   "metadata": {},
   "outputs": [
    {
     "name": "stdout",
     "output_type": "stream",
     "text": [
      "Guess X:2\n",
      "Guess Y:4\n"
     ]
    }
   ],
   "source": [
    "user_point = Point(float(input('Guess X:')),float(input('Guess Y:')))"
   ]
  },
  {
   "cell_type": "code",
   "execution_count": 123,
   "id": "94c4f834",
   "metadata": {},
   "outputs": [
    {
     "name": "stdout",
     "output_type": "stream",
     "text": [
      "Your point was inside the reactangle : True\n"
     ]
    }
   ],
   "source": [
    "print(\"Your point was inside the reactangle :\",user_point.falls_in_rectangle(rectanglex))"
   ]
  },
  {
   "cell_type": "code",
   "execution_count": 130,
   "id": "81545c63",
   "metadata": {},
   "outputs": [
    {
     "name": "stdout",
     "output_type": "stream",
     "text": [
      "Guess the area :100\n"
     ]
    }
   ],
   "source": [
    "user_area = float(input('Guess the area :'))"
   ]
  },
  {
   "cell_type": "code",
   "execution_count": 131,
   "id": "012c81ea",
   "metadata": {},
   "outputs": [
    {
     "name": "stdout",
     "output_type": "stream",
     "text": [
      "Your area was offby -1.0\n"
     ]
    }
   ],
   "source": [
    "print(\"Your area was offby\",rectanglex.area() - user_area)"
   ]
  },
  {
   "cell_type": "code",
   "execution_count": null,
   "id": "eb3af1f3",
   "metadata": {},
   "outputs": [],
   "source": []
  },
  {
   "cell_type": "code",
   "execution_count": null,
   "id": "85a862c9",
   "metadata": {},
   "outputs": [],
   "source": []
  }
 ],
 "metadata": {
  "kernelspec": {
   "display_name": "Python 3 (ipykernel)",
   "language": "python",
   "name": "python3"
  },
  "language_info": {
   "codemirror_mode": {
    "name": "ipython",
    "version": 3
   },
   "file_extension": ".py",
   "mimetype": "text/x-python",
   "name": "python",
   "nbconvert_exporter": "python",
   "pygments_lexer": "ipython3",
   "version": "3.9.13"
  }
 },
 "nbformat": 4,
 "nbformat_minor": 5
}
